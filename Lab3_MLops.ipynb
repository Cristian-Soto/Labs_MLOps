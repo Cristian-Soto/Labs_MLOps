{
 "cells": [
  {
   "cell_type": "markdown",
   "id": "5200d233-a5fa-4e66-bde3-eaf92fc03ef9",
   "metadata": {},
   "source": [
    "## Importamos librerias junto con el Dataset"
   ]
  },
  {
   "cell_type": "code",
   "execution_count": 2,
   "id": "ad987898-8f8f-4780-82aa-bbfba0c90744",
   "metadata": {
    "tags": []
   },
   "outputs": [],
   "source": [
    "import numpy as np\n",
    "from sklearn.datasets import load_wine\n",
    "from sklearn.model_selection import KFold, StratifiedKFold, cross_val_score, train_test_split, LeaveOneOut\n",
    "from sklearn.linear_model import LogisticRegression, LinearRegression\n",
    "from sklearn.metrics import confusion_matrix, accuracy_score, precision_score, recall_score, f1_score, roc_auc_score, mean_squared_error, mean_absolute_error\n",
    "from sklearn.preprocessing import Binarizer\n",
    "from sklearn.multioutput import MultiOutputRegressor"
   ]
  },
  {
   "cell_type": "markdown",
   "id": "947f4a73-5766-409e-9602-7110bf802551",
   "metadata": {
    "tags": []
   },
   "source": [
    "## Cargamos el Dataset de vinos"
   ]
  },
  {
   "cell_type": "code",
   "execution_count": 4,
   "id": "cb330614-1a95-4cfe-b111-97889e56431f",
   "metadata": {
    "tags": []
   },
   "outputs": [],
   "source": [
    "wine = load_wine()\n",
    "X, y = wine.data, wine.target"
   ]
  },
  {
   "cell_type": "code",
   "execution_count": 5,
   "id": "7067edf9-1e90-4618-8381-fe4e95c8dd4c",
   "metadata": {
    "tags": []
   },
   "outputs": [],
   "source": [
    "# Convertir las etiquetas a formato binario para ciertas métricas\n",
    "y_binary = (y == y[0]).astype(int)\n",
    "\n",
    "# Definir los modelos\n",
    "log_reg = LogisticRegression(max_iter=10000)\n",
    "linear_reg = LinearRegression()"
   ]
  },
  {
   "cell_type": "markdown",
   "id": "62fd0594-b041-47c2-bc6f-b3343634bc6d",
   "metadata": {},
   "source": [
    "## Aplicamos las metricas de evaluacion y tecnicas de validacion cruzada"
   ]
  },
  {
   "cell_type": "code",
   "execution_count": 7,
   "id": "b170f795-9c01-492d-b6b4-dc975a6eb332",
   "metadata": {
    "tags": []
   },
   "outputs": [
    {
     "name": "stdout",
     "output_type": "stream",
     "text": [
      "K-Fold Cross-Validation Accuracy: 0.9552380952380952\n",
      "Leave-One-Out Cross-Validation Accuracy: 0.9550561797752809\n",
      "Stratified K-Fold Cross-Validation Accuracy: 0.9663492063492063\n",
      "Matriz de Confusión:\n",
      "[[14  0  0]\n",
      " [ 0 14  0]\n",
      " [ 0  0  8]]\n",
      "Exactitud (Accuracy): 1.0\n",
      "Precisión (Precision): 1.0\n",
      "Exhaustividad (Recall): 1.0\n",
      "Puntuación F1 (F1 Score): 1.0\n",
      "AUC-ROC: N/A\n",
      "Error Cuadrático Medio (MSE): 0.06853348464256068\n",
      "Error Absoluto Medio (MAE): 0.20304725956613046\n"
     ]
    }
   ],
   "source": [
    "# Técnicas de Validación Cruzada\n",
    "kf = KFold(n_splits=5, shuffle=True, random_state=42)\n",
    "loo = LeaveOneOut()\n",
    "skf = StratifiedKFold(n_splits=5, shuffle=True, random_state=42)\n",
    "\n",
    "# K-Fold Cross-Validation\n",
    "kf_scores = cross_val_score(log_reg, X, y, cv=kf, scoring='accuracy')\n",
    "\n",
    "# Leave-One-Out Cross-Validation\n",
    "loo_scores = cross_val_score(log_reg, X, y, cv=loo, scoring='accuracy')\n",
    "\n",
    "# Stratified K-Fold Cross-Validation\n",
    "skf_scores = cross_val_score(log_reg, X, y, cv=skf, scoring='accuracy')\n",
    "\n",
    "# Métricas de Evaluación\n",
    "X_train, X_test, y_train, y_test = train_test_split(X, y, test_size=0.2, random_state=42)\n",
    "log_reg.fit(X_train, y_train)\n",
    "y_pred = log_reg.predict(X_test)\n",
    "\n",
    "conf_matrix = confusion_matrix(y_test, y_pred)\n",
    "accuracy = accuracy_score(y_test, y_pred)\n",
    "precision = precision_score(y_test, y_pred, average='weighted')\n",
    "recall = recall_score(y_test, y_pred, average='weighted')\n",
    "f1 = f1_score(y_test, y_pred, average='weighted')\n",
    "# Para el AUC-ROC, necesitamos predecir las probabilidades\n",
    "if len(np.unique(y)) == 2:  # AUC-ROC sólo tiene sentido para problemas binarios\n",
    "    auc_roc = roc_auc_score(y_test, log_reg.predict_proba(X_test)[:, 1])\n",
    "else:\n",
    "    auc_roc = 'N/A'\n",
    "\n",
    "# Para las métricas de regresión usamos el modelo de regresión lineal\n",
    "linear_reg.fit(X_train, y_train)\n",
    "y_pred_reg = linear_reg.predict(X_test)\n",
    "mse = mean_squared_error(y_test, y_pred_reg)\n",
    "mae = mean_absolute_error(y_test, y_pred_reg)\n",
    "\n",
    "# Imprimir resultados\n",
    "print(f\"K-Fold Cross-Validation Accuracy: {kf_scores.mean()}\")\n",
    "print(f\"Leave-One-Out Cross-Validation Accuracy: {loo_scores.mean()}\")\n",
    "print(f\"Stratified K-Fold Cross-Validation Accuracy: {skf_scores.mean()}\")\n",
    "print(\"Matriz de Confusión:\")\n",
    "print(conf_matrix)\n",
    "print(f\"Exactitud (Accuracy): {accuracy}\")\n",
    "print(f\"Precisión (Precision): {precision}\")\n",
    "print(f\"Exhaustividad (Recall): {recall}\")\n",
    "print(f\"Puntuación F1 (F1 Score): {f1}\")\n",
    "print(f\"AUC-ROC: {auc_roc}\")\n",
    "print(f\"Error Cuadrático Medio (MSE): {mse}\")\n",
    "print(f\"Error Absoluto Medio (MAE): {mae}\")"
   ]
  },
  {
   "cell_type": "markdown",
   "id": "1429b7bd-ec92-4945-a57a-049ad8c991d2",
   "metadata": {},
   "source": [
    "# Resultados"
   ]
  },
  {
   "cell_type": "markdown",
   "id": "b48754d5-c517-42bf-8356-8d460f7b9e57",
   "metadata": {},
   "source": [
    "**K-Fold Cross-Validation Accuracy**\n",
    "- **Valor:** 0.9552380952380952\n",
    "- **Significado:** La precisión promedio obtenida mediante validación cruzada K-Fold. La precisión mide la proporción de predicciones correctas. Un valor de aproximadamente 0.955 indica que el modelo clasifica correctamente el 95.5% de las veces en el conjunto de datos de entrenamiento.\n",
    "\n",
    "**Leave-One-Out Cross-Validation Accuracy**\n",
    "- **Valor:** 0.9550561797752809\n",
    "- **Significado:** La precisión promedio utilizando validación Leave-One-Out (LOO). En LOO, se usa cada punto de datos como un conjunto de prueba mientras se entrena el modelo en el resto de los datos. Un valor de aproximadamente 0.955 indica que el modelo clasifica correctamente el 95.5% de las veces.\n",
    "\n",
    "**Stratified K-Fold Cross-Validation Accuracy**\n",
    "- **Valor:** 0.9663492063492063\n",
    "- **Significado:** La precisión promedio obtenida mediante validación cruzada K-Fold estratificada. La precisión mide la proporción de predicciones correctas. Un valor de aproximadamente 0.966 indica que el modelo clasifica correctamente el 96.6% de las veces, lo que muestra un buen desempeño del modelo.\n",
    "\n",
    "**Matriz de Confusión**\n",
    "- **Valor:** \n",
    "            ```\n",
    "             [[14 0 0],\n",
    "             [ 0 14 0],\n",
    "             [ 0 0 8]],\n",
    "             ```\n",
    "- **Significado:**\n",
    "- 14: Verdaderos negativos para la primera clase (casos negativos correctamente predichos).\n",
    "- 0: Falsos positivos para la primera clase (casos negativos incorrectamente predichos como positivos).\n",
    "- 0: Falsos negativos para la primera clase (casos positivos incorrectamente predichos como negativos).\n",
    "- 14: Verdaderos positivos para la segunda clase (casos positivos correctamente predichos).\n",
    "- 0: Falsos positivos para la segunda clase (casos negativos incorrectamente predichos como positivos).\n",
    "- 0: Falsos negativos para la segunda clase (casos positivos incorrectamente predichos como negativos).\n",
    "- 8: Verdaderos positivos para la tercera clase (casos positivos correctamente predichos).\n",
    "\n",
    "**Exactitud (Accuracy)**\n",
    "- **Valor:** 1.0\n",
    "- **Significado:** La proporción de predicciones correctas sobre el total de predicciones. Un valor de 1.0 indica que el modelo es correcto el 100% del tiempo, mostrando un desempeño perfecto en el conjunto de prueba.\n",
    "\n",
    "**Precisión (Precision)**\n",
    "- **Valor:** 1.0\n",
    "- **Significado:** La precisión es la proporción de verdaderos positivos sobre el total de positivos predichos (verdaderos positivos + falsos positivos). Un valor de 1.0 indica que cuando el modelo predice positivo, es correcto el 100% del tiempo.\n",
    "\n",
    "**Exhaustividad (Recall)**\n",
    "- **Valor:** 1.0\n",
    "- **Significado:** La exhaustividad o recall es la proporción de verdaderos positivos sobre el total de positivos reales (verdaderos positivos + falsos negativos). Un valor de 1.0 indica que el modelo captura el 100% de los casos positivos.\n",
    "\n",
    "**Puntuación F1 (F1 Score)**\n",
    "- **Valor:** 1.0\n",
    "- **Significado:** La puntuación F1 es la media armónica de la precisión y el recall. Un valor de 1.0 indica un equilibrio perfecto entre precisión y recall.\n",
    "\n",
    "**AUC-ROC**\n",
    "- **Valor:** N/A\n",
    "- **Significado:** El área bajo la curva ROC mide la capacidad del modelo para distinguir entre clases. No se calculó ya que el problema no es binario en este caso.\n",
    "\n",
    "**Error Cuadrático Medio (MSE)**\n",
    "- **Valor:** 0.06853348464256068\n",
    "- **Significado:** El MSE mide la media de los errores al cuadrado entre los valores reales y los valores predichos. Un valor menor indica un mejor desempeño en términos de error cuadrático. En este caso, un MSE de aproximadamente 0.068 indica un error cuadrático medio bajo.\n",
    "\n",
    "**Error Absoluto Medio (MAE)**\n",
    "- **Valor:** 0.20304725956613046\n",
    "- **Significado:** El MAE mide la media de los errores absolutos entre los valores reales y los valores predichos. Un valor menor indica un mejor desempeño en términos de error absoluto. En este caso, un MAE de aproximadamente 0.203 indica un error absoluto medio bajo.\n"
   ]
  },
  {
   "cell_type": "code",
   "execution_count": null,
   "id": "df5d7968-bb8a-4438-aab2-90e90d7cf826",
   "metadata": {},
   "outputs": [],
   "source": []
  }
 ],
 "metadata": {
  "kernelspec": {
   "display_name": "Python 3 (ipykernel)",
   "language": "python",
   "name": "python3"
  },
  "language_info": {
   "codemirror_mode": {
    "name": "ipython",
    "version": 3
   },
   "file_extension": ".py",
   "mimetype": "text/x-python",
   "name": "python",
   "nbconvert_exporter": "python",
   "pygments_lexer": "ipython3",
   "version": "3.10.14"
  }
 },
 "nbformat": 4,
 "nbformat_minor": 5
}
